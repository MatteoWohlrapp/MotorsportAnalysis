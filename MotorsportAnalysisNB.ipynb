{
 "cells": [
  {
   "cell_type": "code",
   "execution_count": null,
   "metadata": {
    "pycharm": {
     "name": "#%%\n"
    }
   },
   "outputs": [],
   "source": [
    "import matplotlib.pyplot as plt\n",
    "import pandas as pd\n",
    "import plotly.express as px\n",
    "import plotly.graph_objects as go\n",
    "import os\n"
   ]
  },
  {
   "cell_type": "markdown",
   "metadata": {
    "collapsed": false
   },
   "source": [
    "### Read Data\n",
    "\n",
    "To read in the data I use a dataframe. It saves some of the overhead from objects and is lazy. <br>\n",
    "If you want to run this code, you need to load one of the csv files into a 'data' folder at the root of the repository"
   ]
  },
  {
   "cell_type": "code",
   "execution_count": null,
   "metadata": {
    "pycharm": {
     "name": "#%%\n"
    }
   },
   "outputs": [],
   "source": [
    "data_dir = os.path.join(os.path.curdir, 'data')\n",
    "available_files = os.listdir(data_dir)\n",
    "for file_name in available_files:\n",
    "    if '.csv' in file_name:\n",
    "        file = os.path.join(data_dir, file_name)\n",
    "        break\n",
    "header = pd.read_csv(file, encoding='unicode_escape', skiprows=10, nrows=1, header=None)\n",
    "df = pd.read_csv(file, encoding='unicode_escape', skiprows=12, header=None, names=header.iloc[0])\n"
   ]
  },
  {
   "cell_type": "markdown",
   "metadata": {
    "collapsed": false
   },
   "source": [
    "### Overview\n",
    "To get a first overview of the problem, I plot some of the most promising columns, like throttle, break and steering angle."
   ]
  },
  {
   "cell_type": "code",
   "execution_count": null,
   "metadata": {
    "pycharm": {
     "name": "#%%\n"
    }
   },
   "outputs": [],
   "source": [
    "x = df['time'].tolist()\n",
    "y = df['handwheelAngle'].tolist()\n",
    "fig = px.line(df, x='time', y='handwheelAngle', title='Handwheel Angle')\n",
    "fig.show()\n",
    "\n",
    "y = df['throttle'].tolist()\n",
    "fig = px.line(df, x='time', y='throttle', title='Throttle')\n",
    "fig.show()\n",
    "\n",
    "y = df['brake'].tolist()\n",
    "fig = px.line(df, x='time', y='brake', title='Brake')\n",
    "fig.show()\n",
    "\n",
    "y = df['horizontalSpeed'].tolist()\n",
    "fig = px.line(df, x='time', y='horizontalSpeed', title='Speed')\n",
    "fig.show()"
   ]
  },
  {
   "cell_type": "markdown",
   "metadata": {
    "collapsed": false
   },
   "source": [
    "### Lap Split\n",
    "\n",
    "While there are trends and patterns, especially on the steering angle, it is not trivial yet to divide into laps. <br>\n",
    "My first intution was to use statistical tools, however, this yielded no result. <br>\n",
    "Looking at the distance is also not an option as this might vary depending on the line and tire warming procedures etc. <br>\n",
    "I therefore looked at the north and east velocity:"
   ]
  },
  {
   "cell_type": "code",
   "execution_count": null,
   "metadata": {
    "pycharm": {
     "name": "#%%\n"
    }
   },
   "outputs": [],
   "source": [
    "y = df['vNorth'].tolist()\n",
    "fig = px.line(df, x='time', y='vNorth', title='Speed')\n",
    "fig.add_scatter(x=x, y=df['vEast'])\n",
    "fig.show()\n"
   ]
  },
  {
   "cell_type": "markdown",
   "metadata": {
    "collapsed": false
   },
   "source": [
    "The basic idea is that the start and finish straight runs south west, and so where vEast and vNorth are both highly negative, the car is on the start finish straight. <br>\n",
    "In the word document, you can find more information about this idea.\n",
    "With that information I create a threshold for both velocities and collect time stamps bigger than that value, then filter consecutive ones:\n"
   ]
  },
  {
   "cell_type": "code",
   "execution_count": null,
   "metadata": {
    "pycharm": {
     "is_executing": true,
     "name": "#%%\n"
    }
   },
   "outputs": [],
   "source": [
    "threshold = -20\n",
    "indices = []\n",
    "\n",
    "for i in range(len(df)):\n",
    "    if df['vNorth'].iloc[i] < threshold * 2 and df['vEast'].iloc[i] < threshold:\n",
    "        indices.append(i)\n",
    "\n",
    "combined_indices = []\n",
    "\n",
    "i = 0\n",
    "while i < len(indices):\n",
    "    index = indices[i]\n",
    "    while i < len(indices) - 1 and indices[i] == indices[i + 1] - 1:\n",
    "        i += 1\n",
    "    combined_indices.append(index)\n",
    "    i += 1\n",
    "\n",
    "print(combined_indices)\n",
    "\n",
    "laps = []\n",
    "# timestamp where consecutive lap begins is where current lap ends\n",
    "for i in range(0, len(combined_indices) - 1):\n",
    "    laps.append([combined_indices[i], combined_indices[i + 1]])\n"
   ]
  },
  {
   "cell_type": "markdown",
   "metadata": {
    "collapsed": false
   },
   "source": [
    "### Map to distance\n",
    "To make any meaningful comparisons, the values at a specific time need to be mapped to the distance travelled in that lap. <br>"
   ]
  },
  {
   "cell_type": "code",
   "execution_count": null,
   "metadata": {
    "pycharm": {
     "name": "#%%\n"
    }
   },
   "outputs": [],
   "source": [
    "df_laps = []\n",
    "lap_times = []\n",
    "\n",
    "for lap in laps:\n",
    "    start = df['distance'].iloc[lap[0]]\n",
    "    throttle = []\n",
    "    brake = []\n",
    "    angle = []\n",
    "    distance = []\n",
    "    current_distance = 0\n",
    "    lap_time = lap[1] - lap[0]\n",
    "\n",
    "    for i in range(lap[0], lap[1]):\n",
    "        if df['distance'].iloc[i] > current_distance + start:\n",
    "            throttle.append(df['throttle'].iloc[i])\n",
    "            brake.append(df['brake'].iloc[i])\n",
    "            angle.append(df['handwheelAngle'].iloc[i])\n",
    "            distance.append(current_distance)\n",
    "            current_distance += 1\n",
    "\n",
    "    new_df = pd.DataFrame({'throttle': throttle, 'brake': brake, 'distance': distance, 'handwheelAngle': angle})\n",
    "    df_laps.append(new_df)\n",
    "    lap_times.append(lap_time)\n"
   ]
  },
  {
   "cell_type": "markdown",
   "metadata": {
    "collapsed": false
   },
   "source": [
    "### Visualization\n",
    "\n",
    "After the necessary data for each lap is saved in its own dataframe, we can visualize the most interesting properties. <br>\n",
    "In the following case, I compare the throttle, brake and steering angle for the three fastest laps to see what makes a difference.\n"
   ]
  },
  {
   "cell_type": "code",
   "execution_count": null,
   "metadata": {
    "pycharm": {
     "is_executing": true,
     "name": "#%%\n"
    }
   },
   "outputs": [],
   "source": [
    "metrics = ['throttle', 'brake', 'handwheelAngle']\n",
    "\n",
    "\n",
    "def laptimeRanking(laptimes, time):\n",
    "    place = 1\n",
    "    for laptime in laptimes:\n",
    "        if laptime < time:\n",
    "            place += 1\n",
    "\n",
    "    return place\n",
    "\n",
    "\n",
    "compare_fastest_x_laps = 3\n",
    "\n",
    "for metric in metrics:\n",
    "    fig, ax = plt.subplots()\n",
    "    for i in range(len(lap_times)):\n",
    "        rankedLap = laptimeRanking(lap_times, lap_times[i])\n",
    "        if rankedLap <= compare_fastest_x_laps:\n",
    "            label = str(laptimeRanking(lap_times, lap_times[i])) + \"fastest lap\"\n",
    "            ax.plot(df_laps[i]['distance'], df_laps[i][metric], label=label)\n",
    "    plt.xlabel('distance')\n",
    "    plt.ylabel(metric)\n",
    "    plt.legend(loc=\"upper left\")\n",
    "plt.show()\n"
   ]
  },
  {
   "cell_type": "markdown",
   "metadata": {
    "collapsed": false
   },
   "source": [
    "With the mapping done, further extensions can be applied easily."
   ]
  }
 ],
 "metadata": {
  "kernelspec": {
   "display_name": "Python 3",
   "language": "python",
   "name": "python3"
  },
  "language_info": {
   "codemirror_mode": {
    "name": "ipython",
    "version": 2
   },
   "file_extension": ".py",
   "mimetype": "text/x-python",
   "name": "python",
   "nbconvert_exporter": "python",
   "pygments_lexer": "ipython2",
   "version": "2.7.6"
  }
 },
 "nbformat": 4,
 "nbformat_minor": 0
}
